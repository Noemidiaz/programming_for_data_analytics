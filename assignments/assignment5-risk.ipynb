{
 "cells": [
  {
   "cell_type": "markdown",
   "metadata": {},
   "source": [
    "## Write a program to simulate and plot battles in \"Risk\" famous board game\n",
    "Write a Program to Simulate and Plot 1000 Risk Battles (3v2)\n",
    "\n",
    "# Description\n",
    "***\n",
    "The program should simulates 1000 individual battle rounds in Risk (3 attacker vs 2 defender) and plots the result."
   ]
  }
 ],
 "metadata": {
  "language_info": {
   "name": "python"
  }
 },
 "nbformat": 4,
 "nbformat_minor": 2
}
