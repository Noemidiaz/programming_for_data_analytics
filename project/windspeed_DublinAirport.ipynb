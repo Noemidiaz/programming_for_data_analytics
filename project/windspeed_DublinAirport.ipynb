{
 "cells": [
  {
   "cell_type": "markdown",
   "metadata": {},
   "source": [
    "# Wind Speed Analysis at Dublin Airport: insights and trends\n",
    "***\n"
   ]
  },
  {
   "cell_type": "markdown",
   "metadata": {},
   "source": [
    "![redanemometer](redanemometer.jpg)"
   ]
  },
  {
   "cell_type": "markdown",
   "metadata": {},
   "source": [
    "## Context and Purpose\n",
    "***"
   ]
  },
  {
   "cell_type": "markdown",
   "metadata": {},
   "source": [
    "- Long-Term Wind Speed Trends at Dublin Airport\n",
    "- timeframes (2000-2025)"
   ]
  },
  {
   "cell_type": "markdown",
   "metadata": {},
   "source": [
    "## Getting ready\n",
    "***"
   ]
  },
  {
   "cell_type": "markdown",
   "metadata": {},
   "source": [
    "### Importing Libraries\n"
   ]
  },
  {
   "cell_type": "code",
   "execution_count": 28,
   "metadata": {},
   "outputs": [],
   "source": [
    "# Data frames\n",
    "import pandas as pd\n",
    "\n",
    "\n",
    "# Importing matplotlib for Plotting\n",
    "import matplotlib.pyplot as plt\n",
    "\n",
    "# Importing scikit-learn (sklearn) for machine learning tasks\n",
    "import sklearn \n",
    "\n",
    "# Importing specific functions from scikit-learn (sklearn)\n",
    "from sklearn.model_selection import train_test_split\n",
    "from sklearn.linear_model import LinearRegression\n",
    "\n"
   ]
  },
  {
   "cell_type": "markdown",
   "metadata": {},
   "source": [
    "### Set up and installing"
   ]
  },
  {
   "cell_type": "markdown",
   "metadata": {},
   "source": [
    "Ensure all the necessary tools are installed in Python environment:\n",
    "\n",
    "1. Run in the terminal the following commands to install Jupyter notebook and pandas:\n",
    "\n",
    "\n",
    "`pip install notebook`\n",
    "\n",
    "`pip install pandas`\n",
    "\n",
    "`pip install scikit-learn`\n",
    "\n",
    "2. Check Jupyter extension is installed\n",
    "\n",
    "3. Start the Kernel if It is not running to make sure the execution of all cells and output results."
   ]
  },
  {
   "cell_type": "markdown",
   "metadata": {},
   "source": [
    "### Loading data"
   ]
  },
  {
   "cell_type": "code",
   "execution_count": 29,
   "metadata": {},
   "outputs": [
    {
     "name": "stderr",
     "output_type": "stream",
     "text": [
      "C:\\Users\\noemi\\AppData\\Local\\Temp\\ipykernel_18836\\118780773.py:2: DtypeWarning: Columns (3) have mixed types. Specify dtype option on import or set low_memory=False.\n",
      "  data = pd.read_csv(\"clean_data_DublinAirport_weather.csv\")\n"
     ]
    }
   ],
   "source": [
    "# Loading data into notebook from csv file\n",
    "data = pd.read_csv(\"clean_data_DublinAirport_weather.csv\")"
   ]
  },
  {
   "cell_type": "markdown",
   "metadata": {},
   "source": [
    "### Examine dataset"
   ]
  },
  {
   "cell_type": "markdown",
   "metadata": {},
   "source": [
    "Once the data frame is uploaded, the analysis can proceed.The dataset used from Met Eireann has been cleaned and organized focus on four variables:\n",
    "\n",
    "- date: date\n",
    "- airtemp: air tempeture in °C\n",
    "- wdsp: Wind speed\n",
    "- wddir: Wind direction"
   ]
  },
  {
   "cell_type": "code",
   "execution_count": 30,
   "metadata": {},
   "outputs": [
    {
     "name": "stdout",
     "output_type": "stream",
     "text": [
      "<class 'pandas.core.frame.DataFrame'>\n",
      "RangeIndex: 218424 entries, 0 to 218423\n",
      "Data columns (total 4 columns):\n",
      " #   Column   Non-Null Count   Dtype  \n",
      "---  ------   --------------   -----  \n",
      " 0   date     218424 non-null  object \n",
      " 1   airtemp  218424 non-null  float64\n",
      " 2   wdsp     218424 non-null  int64  \n",
      " 3   wddir    218424 non-null  object \n",
      "dtypes: float64(1), int64(1), object(2)\n",
      "memory usage: 6.7+ MB\n"
     ]
    }
   ],
   "source": [
    "# Information about columns names and data types of variables\n",
    "data.info()"
   ]
  },
  {
   "cell_type": "code",
   "execution_count": 31,
   "metadata": {},
   "outputs": [
    {
     "data": {
      "text/plain": [
       "date       0\n",
       "airtemp    0\n",
       "wdsp       0\n",
       "wddir      0\n",
       "dtype: int64"
      ]
     },
     "execution_count": 31,
     "metadata": {},
     "output_type": "execute_result"
    }
   ],
   "source": [
    "# Check for missing values\n",
    "data.isnull().sum()\n"
   ]
  },
  {
   "cell_type": "code",
   "execution_count": 32,
   "metadata": {},
   "outputs": [
    {
     "data": {
      "text/html": [
       "<div>\n",
       "<style scoped>\n",
       "    .dataframe tbody tr th:only-of-type {\n",
       "        vertical-align: middle;\n",
       "    }\n",
       "\n",
       "    .dataframe tbody tr th {\n",
       "        vertical-align: top;\n",
       "    }\n",
       "\n",
       "    .dataframe thead th {\n",
       "        text-align: right;\n",
       "    }\n",
       "</style>\n",
       "<table border=\"1\" class=\"dataframe\">\n",
       "  <thead>\n",
       "    <tr style=\"text-align: right;\">\n",
       "      <th></th>\n",
       "      <th>date</th>\n",
       "      <th>airtemp</th>\n",
       "      <th>wdsp</th>\n",
       "      <th>wddir</th>\n",
       "    </tr>\n",
       "  </thead>\n",
       "  <tbody>\n",
       "    <tr>\n",
       "      <th>0</th>\n",
       "      <td>01/01/2000 01:00</td>\n",
       "      <td>3.3</td>\n",
       "      <td>7</td>\n",
       "      <td>250</td>\n",
       "    </tr>\n",
       "    <tr>\n",
       "      <th>1</th>\n",
       "      <td>01/01/2000 02:00</td>\n",
       "      <td>3.4</td>\n",
       "      <td>8</td>\n",
       "      <td>250</td>\n",
       "    </tr>\n",
       "    <tr>\n",
       "      <th>2</th>\n",
       "      <td>01/01/2000 03:00</td>\n",
       "      <td>2.2</td>\n",
       "      <td>6</td>\n",
       "      <td>240</td>\n",
       "    </tr>\n",
       "    <tr>\n",
       "      <th>3</th>\n",
       "      <td>01/01/2000 04:00</td>\n",
       "      <td>2.2</td>\n",
       "      <td>6</td>\n",
       "      <td>230</td>\n",
       "    </tr>\n",
       "    <tr>\n",
       "      <th>4</th>\n",
       "      <td>01/01/2000 05:00</td>\n",
       "      <td>1.9</td>\n",
       "      <td>7</td>\n",
       "      <td>250</td>\n",
       "    </tr>\n",
       "  </tbody>\n",
       "</table>\n",
       "</div>"
      ],
      "text/plain": [
       "               date  airtemp  wdsp wddir\n",
       "0  01/01/2000 01:00      3.3     7   250\n",
       "1  01/01/2000 02:00      3.4     8   250\n",
       "2  01/01/2000 03:00      2.2     6   240\n",
       "3  01/01/2000 04:00      2.2     6   230\n",
       "4  01/01/2000 05:00      1.9     7   250"
      ]
     },
     "execution_count": 32,
     "metadata": {},
     "output_type": "execute_result"
    }
   ],
   "source": [
    "# show the data\n",
    "data.head()"
   ]
  },
  {
   "cell_type": "code",
   "execution_count": 33,
   "metadata": {},
   "outputs": [
    {
     "data": {
      "text/html": [
       "<div>\n",
       "<style scoped>\n",
       "    .dataframe tbody tr th:only-of-type {\n",
       "        vertical-align: middle;\n",
       "    }\n",
       "\n",
       "    .dataframe tbody tr th {\n",
       "        vertical-align: top;\n",
       "    }\n",
       "\n",
       "    .dataframe thead th {\n",
       "        text-align: right;\n",
       "    }\n",
       "</style>\n",
       "<table border=\"1\" class=\"dataframe\">\n",
       "  <thead>\n",
       "    <tr style=\"text-align: right;\">\n",
       "      <th></th>\n",
       "      <th>airtemp</th>\n",
       "      <th>wdsp</th>\n",
       "    </tr>\n",
       "  </thead>\n",
       "  <tbody>\n",
       "    <tr>\n",
       "      <th>count</th>\n",
       "      <td>218424.000000</td>\n",
       "      <td>218424.000000</td>\n",
       "    </tr>\n",
       "    <tr>\n",
       "      <th>mean</th>\n",
       "      <td>9.857803</td>\n",
       "      <td>10.303927</td>\n",
       "    </tr>\n",
       "    <tr>\n",
       "      <th>std</th>\n",
       "      <td>5.025941</td>\n",
       "      <td>5.295946</td>\n",
       "    </tr>\n",
       "    <tr>\n",
       "      <th>min</th>\n",
       "      <td>-11.500000</td>\n",
       "      <td>0.000000</td>\n",
       "    </tr>\n",
       "    <tr>\n",
       "      <th>25%</th>\n",
       "      <td>6.300000</td>\n",
       "      <td>6.000000</td>\n",
       "    </tr>\n",
       "    <tr>\n",
       "      <th>50%</th>\n",
       "      <td>10.000000</td>\n",
       "      <td>10.000000</td>\n",
       "    </tr>\n",
       "    <tr>\n",
       "      <th>75%</th>\n",
       "      <td>13.500000</td>\n",
       "      <td>13.000000</td>\n",
       "    </tr>\n",
       "    <tr>\n",
       "      <th>max</th>\n",
       "      <td>29.100000</td>\n",
       "      <td>45.000000</td>\n",
       "    </tr>\n",
       "  </tbody>\n",
       "</table>\n",
       "</div>"
      ],
      "text/plain": [
       "             airtemp           wdsp\n",
       "count  218424.000000  218424.000000\n",
       "mean        9.857803      10.303927\n",
       "std         5.025941       5.295946\n",
       "min       -11.500000       0.000000\n",
       "25%         6.300000       6.000000\n",
       "50%        10.000000      10.000000\n",
       "75%        13.500000      13.000000\n",
       "max        29.100000      45.000000"
      ]
     },
     "execution_count": 33,
     "metadata": {},
     "output_type": "execute_result"
    }
   ],
   "source": [
    "# Statistics summary of numerical variables\n",
    "data.describe()\n"
   ]
  },
  {
   "cell_type": "markdown",
   "metadata": {},
   "source": [
    "## Data visualization"
   ]
  },
  {
   "cell_type": "markdown",
   "metadata": {},
   "source": [
    "notes\n",
    "- How much wind power in a day /year /month ?\n",
    "- wind direction"
   ]
  },
  {
   "cell_type": "markdown",
   "metadata": {},
   "source": [
    "#### Wind direction frequency"
   ]
  },
  {
   "cell_type": "markdown",
   "metadata": {},
   "source": [
    "The following pie chart highlights the wind direction based on the cardinal points. The wind predominantly blows towards the South West and West with a slightly less frequency towards the South.\n",
    "\n",
    "The wind direction data (in degrees) is usually given in terms of cardinal directions (e.g., North = 0 or 360 degrees, East = 90 degrees, South = 180 degrees, West = 270 degrees)"
   ]
  },
  {
   "cell_type": "code",
   "execution_count": 34,
   "metadata": {},
   "outputs": [
    {
     "data": {
      "text/plain": [
       "wddir\n",
       "240    9348\n",
       "260    9272\n",
       "250    8804\n",
       "270    8169\n",
       "230    7889\n",
       "       ... \n",
       "10      764\n",
       "360     726\n",
       "0       143\n",
       "0         8\n",
       "          1\n",
       "Name: count, Length: 75, dtype: int64"
      ]
     },
     "execution_count": 34,
     "metadata": {},
     "output_type": "execute_result"
    }
   ],
   "source": [
    "data['wddir'].value_counts()"
   ]
  },
  {
   "cell_type": "code",
   "execution_count": 37,
   "metadata": {},
   "outputs": [
    {
     "name": "stdout",
     "output_type": "stream",
     "text": [
      "wddir_cardinal\n",
      "Other    208787\n",
      "West       5901\n",
      "East       1995\n",
      "South      1007\n",
      "North       734\n",
      "Name: count, dtype: int64\n"
     ]
    }
   ],
   "source": [
    "# Define the cardinal directions based on degrees\n",
    "def get_cardinal_direction(degrees):\n",
    "    if degrees == 0 or degrees == 360:\n",
    "        return 'North'\n",
    "    elif degrees == 90:\n",
    "        return 'East'\n",
    "    elif degrees == 180:\n",
    "        return 'South'\n",
    "    elif degrees == 270:\n",
    "        return 'West'\n",
    "    else:\n",
    "        return 'Other'\n",
    "\n",
    "# Apply the function to the 'wddir' column\n",
    "data['wddir_cardinal'] = data['wddir'].apply(get_cardinal_direction)\n",
    "\n",
    "# Show the counts of cardinal directions\n",
    "print(data['wddir_cardinal'].value_counts())\n"
   ]
  },
  {
   "cell_type": "code",
   "execution_count": null,
   "metadata": {},
   "outputs": [],
   "source": [
    "# Plotting a pie chart about the frequency of cardinal wind directions\n",
    "labels = 'South West', 'West', 'South'\n",
    "sizes = [7, 7, 5]\n",
    "colors=['seagreen','yellowgreen','darkgreen']\n",
    "hatch_patterns= ['//', 'o','..']\n",
    "fig, ax = plt.subplots()\n",
    "ax.pie(sizes, labels=labels, colors=colors, hatch=hatch_patterns, shadow=True,  textprops={'size': 'smaller'}, radius=0.8)\n",
    "plt.title('Frequency of Cardinal Wind Directions (Single Day)')\n",
    "plt.legend(labels, loc=\"best\", fontsize=\"small\")\n",
    "plt.show"
   ]
  },
  {
   "cell_type": "markdown",
   "metadata": {},
   "source": [
    "## References"
   ]
  },
  {
   "cell_type": "markdown",
   "metadata": {},
   "source": [
    "- Jupyter notebook format: \n",
    "\n",
    "https://www.ibm.com/docs/en/watson-studio-local/1.2.3?topic=notebooks-markdown-jupyter-cheatsheet\n",
    "\n",
    "- Jupyter notebook text formatting: \n",
    "\n",
    "https://www.earthdatascience.org/courses/intro-to-earth-data-science/file-formats/use-text-files/format-text-with-markdown-jupyter-notebook/\n",
    "\n",
    "- Free images:\n",
    "https://pixabay.com/\n",
    "\n",
    "- Classify the wind direction:\n",
    "https://stackoverflow.com/questions/35864909/classify-the-wind-direction-in-several-classes"
   ]
  },
  {
   "cell_type": "markdown",
   "metadata": {},
   "source": [
    "***\n",
    "### End"
   ]
  }
 ],
 "metadata": {
  "kernelspec": {
   "display_name": "Python 3",
   "language": "python",
   "name": "python3"
  },
  "language_info": {
   "codemirror_mode": {
    "name": "ipython",
    "version": 3
   },
   "file_extension": ".py",
   "mimetype": "text/x-python",
   "name": "python",
   "nbconvert_exporter": "python",
   "pygments_lexer": "ipython3",
   "version": "3.12.8"
  }
 },
 "nbformat": 4,
 "nbformat_minor": 2
}
