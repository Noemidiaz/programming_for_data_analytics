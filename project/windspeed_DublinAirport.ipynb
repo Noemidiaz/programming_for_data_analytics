{
 "cells": [
  {
   "cell_type": "markdown",
   "metadata": {},
   "source": [
    "# Wind Speed Analysis at Dublin Airport: insights and trends\n",
    "***\n"
   ]
  },
  {
   "cell_type": "markdown",
   "metadata": {},
   "source": [
    "![redanemometer](redanemometer.jpg)"
   ]
  },
  {
   "cell_type": "markdown",
   "metadata": {},
   "source": [
    "## Context and Purpose\n",
    "***"
   ]
  },
  {
   "cell_type": "markdown",
   "metadata": {},
   "source": [
    "- Long-Term Wind Speed Trends at Dublin Airport\n",
    "- timeframes (2000-2025)"
   ]
  },
  {
   "cell_type": "markdown",
   "metadata": {},
   "source": [
    "## Getting ready\n",
    "***"
   ]
  },
  {
   "cell_type": "markdown",
   "metadata": {},
   "source": [
    "### Importing Libraries\n"
   ]
  },
  {
   "cell_type": "code",
   "execution_count": 2,
   "metadata": {},
   "outputs": [],
   "source": [
    "# Data frames\n",
    "import pandas as pd\n",
    "\n",
    "\n",
    "# Importing matplotlib for plotting\n",
    "import matplotlib.pyplot as plt\n",
    "\n",
    "# Importing colormap module in Matplotlib\n",
    "import matplotlib.cm as cm\n",
    "\n",
    "# Importing scikit-learn (sklearn) for machine learning tasks\n",
    "import sklearn \n",
    "\n",
    "# Importing specific functions from scikit-learn (sklearn)\n",
    "from sklearn.model_selection import train_test_split\n",
    "from sklearn.linear_model import LinearRegression\n",
    "\n"
   ]
  },
  {
   "cell_type": "markdown",
   "metadata": {},
   "source": [
    "### Set up and installing"
   ]
  },
  {
   "cell_type": "markdown",
   "metadata": {},
   "source": [
    "Ensure all the necessary tools are installed in Python environment:\n",
    "\n",
    "1. Run in the terminal the following commands to install Jupyter notebook and pandas:\n",
    "\n",
    "\n",
    "`pip install notebook`\n",
    "\n",
    "`pip install pandas`\n",
    "\n",
    "`pip install scikit-learn`\n",
    "\n",
    "2. Check Jupyter extension is installed\n",
    "\n",
    "3. Start the Kernel if It is not running to make sure the execution of all cells and output results."
   ]
  },
  {
   "cell_type": "markdown",
   "metadata": {},
   "source": [
    "### Loading data"
   ]
  },
  {
   "cell_type": "code",
   "execution_count": 3,
   "metadata": {},
   "outputs": [
    {
     "name": "stderr",
     "output_type": "stream",
     "text": [
      "C:\\Users\\noemi\\AppData\\Local\\Temp\\ipykernel_17048\\2029276336.py:2: DtypeWarning: Columns (3) have mixed types. Specify dtype option on import or set low_memory=False.\n",
      "  data = pd.read_csv(\"clean_data_DublinAirport_weather.csv\")\n"
     ]
    }
   ],
   "source": [
    "# Loading data into notebook from csv file\n",
    "data = pd.read_csv(\"clean_data_DublinAirport_weather.csv\")"
   ]
  },
  {
   "cell_type": "markdown",
   "metadata": {},
   "source": [
    "### Examine dataset"
   ]
  },
  {
   "cell_type": "markdown",
   "metadata": {},
   "source": [
    "Once the data frame is uploaded, the analysis can proceed.The dataset used from Met Eireann at Dublin Airport has been cleaned and organized focus on four variables between the years 2000 and 2025:\n",
    "\n",
    "- date: date\n",
    "- airtemp: air tempeture in °C\n",
    "- wdsp: Wind speed\n",
    "- wddir: Wind direction"
   ]
  },
  {
   "cell_type": "code",
   "execution_count": 4,
   "metadata": {},
   "outputs": [
    {
     "name": "stdout",
     "output_type": "stream",
     "text": [
      "<class 'pandas.core.frame.DataFrame'>\n",
      "RangeIndex: 218424 entries, 0 to 218423\n",
      "Data columns (total 4 columns):\n",
      " #   Column   Non-Null Count   Dtype  \n",
      "---  ------   --------------   -----  \n",
      " 0   date     218424 non-null  object \n",
      " 1   airtemp  218424 non-null  float64\n",
      " 2   wdsp     218424 non-null  int64  \n",
      " 3   wddir    218424 non-null  object \n",
      "dtypes: float64(1), int64(1), object(2)\n",
      "memory usage: 6.7+ MB\n"
     ]
    }
   ],
   "source": [
    "# Information about columns names and data types of variables\n",
    "data.info()"
   ]
  },
  {
   "cell_type": "code",
   "execution_count": 5,
   "metadata": {},
   "outputs": [
    {
     "data": {
      "text/plain": [
       "date       0\n",
       "airtemp    0\n",
       "wdsp       0\n",
       "wddir      0\n",
       "dtype: int64"
      ]
     },
     "execution_count": 5,
     "metadata": {},
     "output_type": "execute_result"
    }
   ],
   "source": [
    "# Check for missing values\n",
    "data.isnull().sum()\n"
   ]
  },
  {
   "cell_type": "code",
   "execution_count": 6,
   "metadata": {},
   "outputs": [
    {
     "data": {
      "text/html": [
       "<div>\n",
       "<style scoped>\n",
       "    .dataframe tbody tr th:only-of-type {\n",
       "        vertical-align: middle;\n",
       "    }\n",
       "\n",
       "    .dataframe tbody tr th {\n",
       "        vertical-align: top;\n",
       "    }\n",
       "\n",
       "    .dataframe thead th {\n",
       "        text-align: right;\n",
       "    }\n",
       "</style>\n",
       "<table border=\"1\" class=\"dataframe\">\n",
       "  <thead>\n",
       "    <tr style=\"text-align: right;\">\n",
       "      <th></th>\n",
       "      <th>date</th>\n",
       "      <th>airtemp</th>\n",
       "      <th>wdsp</th>\n",
       "      <th>wddir</th>\n",
       "    </tr>\n",
       "  </thead>\n",
       "  <tbody>\n",
       "    <tr>\n",
       "      <th>0</th>\n",
       "      <td>01/01/2000 01:00</td>\n",
       "      <td>3.3</td>\n",
       "      <td>7</td>\n",
       "      <td>250</td>\n",
       "    </tr>\n",
       "    <tr>\n",
       "      <th>1</th>\n",
       "      <td>01/01/2000 02:00</td>\n",
       "      <td>3.4</td>\n",
       "      <td>8</td>\n",
       "      <td>250</td>\n",
       "    </tr>\n",
       "    <tr>\n",
       "      <th>2</th>\n",
       "      <td>01/01/2000 03:00</td>\n",
       "      <td>2.2</td>\n",
       "      <td>6</td>\n",
       "      <td>240</td>\n",
       "    </tr>\n",
       "    <tr>\n",
       "      <th>3</th>\n",
       "      <td>01/01/2000 04:00</td>\n",
       "      <td>2.2</td>\n",
       "      <td>6</td>\n",
       "      <td>230</td>\n",
       "    </tr>\n",
       "    <tr>\n",
       "      <th>4</th>\n",
       "      <td>01/01/2000 05:00</td>\n",
       "      <td>1.9</td>\n",
       "      <td>7</td>\n",
       "      <td>250</td>\n",
       "    </tr>\n",
       "  </tbody>\n",
       "</table>\n",
       "</div>"
      ],
      "text/plain": [
       "               date  airtemp  wdsp wddir\n",
       "0  01/01/2000 01:00      3.3     7   250\n",
       "1  01/01/2000 02:00      3.4     8   250\n",
       "2  01/01/2000 03:00      2.2     6   240\n",
       "3  01/01/2000 04:00      2.2     6   230\n",
       "4  01/01/2000 05:00      1.9     7   250"
      ]
     },
     "execution_count": 6,
     "metadata": {},
     "output_type": "execute_result"
    }
   ],
   "source": [
    "# show the data\n",
    "data.head()"
   ]
  },
  {
   "cell_type": "code",
   "execution_count": 7,
   "metadata": {},
   "outputs": [
    {
     "data": {
      "text/html": [
       "<div>\n",
       "<style scoped>\n",
       "    .dataframe tbody tr th:only-of-type {\n",
       "        vertical-align: middle;\n",
       "    }\n",
       "\n",
       "    .dataframe tbody tr th {\n",
       "        vertical-align: top;\n",
       "    }\n",
       "\n",
       "    .dataframe thead th {\n",
       "        text-align: right;\n",
       "    }\n",
       "</style>\n",
       "<table border=\"1\" class=\"dataframe\">\n",
       "  <thead>\n",
       "    <tr style=\"text-align: right;\">\n",
       "      <th></th>\n",
       "      <th>airtemp</th>\n",
       "      <th>wdsp</th>\n",
       "    </tr>\n",
       "  </thead>\n",
       "  <tbody>\n",
       "    <tr>\n",
       "      <th>count</th>\n",
       "      <td>218424.000000</td>\n",
       "      <td>218424.000000</td>\n",
       "    </tr>\n",
       "    <tr>\n",
       "      <th>mean</th>\n",
       "      <td>9.857803</td>\n",
       "      <td>10.303927</td>\n",
       "    </tr>\n",
       "    <tr>\n",
       "      <th>std</th>\n",
       "      <td>5.025941</td>\n",
       "      <td>5.295946</td>\n",
       "    </tr>\n",
       "    <tr>\n",
       "      <th>min</th>\n",
       "      <td>-11.500000</td>\n",
       "      <td>0.000000</td>\n",
       "    </tr>\n",
       "    <tr>\n",
       "      <th>25%</th>\n",
       "      <td>6.300000</td>\n",
       "      <td>6.000000</td>\n",
       "    </tr>\n",
       "    <tr>\n",
       "      <th>50%</th>\n",
       "      <td>10.000000</td>\n",
       "      <td>10.000000</td>\n",
       "    </tr>\n",
       "    <tr>\n",
       "      <th>75%</th>\n",
       "      <td>13.500000</td>\n",
       "      <td>13.000000</td>\n",
       "    </tr>\n",
       "    <tr>\n",
       "      <th>max</th>\n",
       "      <td>29.100000</td>\n",
       "      <td>45.000000</td>\n",
       "    </tr>\n",
       "  </tbody>\n",
       "</table>\n",
       "</div>"
      ],
      "text/plain": [
       "             airtemp           wdsp\n",
       "count  218424.000000  218424.000000\n",
       "mean        9.857803      10.303927\n",
       "std         5.025941       5.295946\n",
       "min       -11.500000       0.000000\n",
       "25%         6.300000       6.000000\n",
       "50%        10.000000      10.000000\n",
       "75%        13.500000      13.000000\n",
       "max        29.100000      45.000000"
      ]
     },
     "execution_count": 7,
     "metadata": {},
     "output_type": "execute_result"
    }
   ],
   "source": [
    "# Statistics summary of numerical variables\n",
    "data.describe()\n"
   ]
  },
  {
   "cell_type": "markdown",
   "metadata": {},
   "source": [
    "## Data visualization"
   ]
  },
  {
   "cell_type": "markdown",
   "metadata": {},
   "source": [
    "notes\n",
    "- How much wind power in a day /year /month ?\n",
    "- wind direction"
   ]
  },
  {
   "cell_type": "markdown",
   "metadata": {},
   "source": [
    "#### Wind direction frequency"
   ]
  },
  {
   "cell_type": "markdown",
   "metadata": {},
   "source": [
    "The following pie chart highlights the wind direction based on the cardinal points. The wind predominantly blows towards the West and South West with a slightly less frequency towards the East and North.\n",
    "\n",
    "The wind direction data (in degrees) is usually given in terms of cardinal directions (e.g., North = 0 or 360 degrees, East = 90 degrees, South = 180 degrees, West = 270 degrees)\n",
    "\n",
    "Also, experts in metheorology create groups or ranges for each cardinal and intercardinal direction to be more precie. Here is the range:\n",
    "\n",
    "North (N): 337.5° to 22.5°\n",
    "North-East (NE): 22.5° to 67.5°\n",
    "East (E): 67.5° to 112.5°\n",
    "South-East (SE): 112.5° to 157.5°\n",
    "South (S): 157.5° to 202.5°\n",
    "South-West (SW): 202.5° to 247.5°\n",
    "West (W): 247.5° to 292.5°\n",
    "North-West (NW): 292.5° to 337.5°\n",
    "\n",
    "Below , It is possible to observe two pie charts with those two classification of data."
   ]
  },
  {
   "cell_type": "code",
   "execution_count": 8,
   "metadata": {},
   "outputs": [
    {
     "data": {
      "text/plain": [
       "wddir\n",
       "240    9348\n",
       "260    9272\n",
       "250    8804\n",
       "270    8169\n",
       "230    7889\n",
       "       ... \n",
       "10      764\n",
       "360     726\n",
       "0       143\n",
       "0         8\n",
       "          1\n",
       "Name: count, Length: 75, dtype: int64"
      ]
     },
     "execution_count": 8,
     "metadata": {},
     "output_type": "execute_result"
    }
   ],
   "source": [
    "# Frequency. how often values appears in wddir column.\n",
    "data['wddir'].value_counts()"
   ]
  },
  {
   "cell_type": "code",
   "execution_count": 9,
   "metadata": {},
   "outputs": [],
   "source": [
    "# Convert to numeric, convert invalid entries to NaN\n",
    "data['wddir'] = pd.to_numeric(data['wddir'], errors='coerce')\n"
   ]
  },
  {
   "cell_type": "code",
   "execution_count": 10,
   "metadata": {},
   "outputs": [
    {
     "name": "stdout",
     "output_type": "stream",
     "text": [
      "1\n"
     ]
    }
   ],
   "source": [
    "# Check for NaN values\n",
    "print(data['wddir'].isna().sum())  # Check for NaN values\n"
   ]
  },
  {
   "cell_type": "code",
   "execution_count": 11,
   "metadata": {},
   "outputs": [
    {
     "name": "stdout",
     "output_type": "stream",
     "text": [
      "wddir_cardinal\n",
      "Other    195769\n",
      "West      14070\n",
      "East       4210\n",
      "South      2263\n",
      "North      2112\n",
      "Name: count, dtype: int64\n"
     ]
    }
   ],
   "source": [
    "# Define the cardinal directions based on degrees\n",
    "def get_cardinal_direction(degrees):\n",
    "    if degrees == 0 or degrees == 360:\n",
    "        return 'North'\n",
    "    elif degrees == 90:\n",
    "        return 'East'\n",
    "    elif degrees == 180:\n",
    "        return 'South'\n",
    "    elif degrees == 270:\n",
    "        return 'West'\n",
    "    else:\n",
    "        return 'Other'\n",
    "\n",
    "# Apply the function to the 'wddir' column\n",
    "data['wddir_cardinal'] = data['wddir'].apply(get_cardinal_direction)\n",
    "\n",
    "# Show the counts of cardinal directions\n",
    "print(data['wddir_cardinal'].value_counts())\n"
   ]
  },
  {
   "cell_type": "code",
   "execution_count": 12,
   "metadata": {},
   "outputs": [
    {
     "name": "stdout",
     "output_type": "stream",
     "text": [
      "wddir\n",
      "240.0    15266\n",
      "250.0    14910\n",
      "260.0    14530\n",
      "230.0    13373\n",
      "220.0    10825\n",
      "280.0    10385\n",
      "140.0     9578\n",
      "210.0     8027\n",
      "290.0     7651\n",
      "150.0     7050\n",
      "130.0     6966\n",
      "200.0     6821\n",
      "300.0     5935\n",
      "120.0     5016\n",
      "310.0     4941\n",
      "80.0      4612\n",
      "110.0     4475\n",
      "160.0     4259\n",
      "100.0     4162\n",
      "190.0     3934\n",
      "320.0     3784\n",
      "70.0      3228\n",
      "330.0     3127\n",
      "60.0      2893\n",
      "50.0      2869\n",
      "40.0      2849\n",
      "340.0     2837\n",
      "170.0     2755\n",
      "20.0      2268\n",
      "30.0      2174\n",
      "350.0     2161\n",
      "10.0      2107\n",
      "Name: count, dtype: int64\n"
     ]
    }
   ],
   "source": [
    "# Identify and check data values from'other'row \n",
    "other_rows = data[data['wddir_cardinal'] == 'Other']\n",
    "# Check the wind distribution for all those values\n",
    "print(other_rows['wddir'].value_counts())\n"
   ]
  },
  {
   "cell_type": "code",
   "execution_count": 13,
   "metadata": {},
   "outputs": [
    {
     "name": "stderr",
     "output_type": "stream",
     "text": [
      "C:\\Users\\noemi\\AppData\\Local\\Temp\\ipykernel_17048\\1514315048.py:7: MatplotlibDeprecationWarning: The get_cmap function was deprecated in Matplotlib 3.7 and will be removed in 3.11. Use ``matplotlib.colormaps[name]`` or ``matplotlib.colormaps.get_cmap()`` or ``pyplot.get_cmap()`` instead.\n",
      "  cmap = cm.get_cmap('terrain')\n",
      "C:\\Users\\noemi\\AppData\\Local\\Temp\\ipykernel_17048\\1514315048.py:15: MatplotlibDeprecationWarning: hatch must consist of a string of \"*+-./OX\\ox|\" or None, but found the following invalid values \"_\". Passing invalid values is deprecated since 3.4 and will become an error in 3.11.\n",
      "  ax.pie(sizes, labels=labels, colors=colors, hatch=hatch_patterns, shadow=False,  textprops={'size': 'smaller'}, radius=0.8)\n"
     ]
    },
    {
     "data": {
      "text/plain": [
       "<function matplotlib.pyplot.show(close=None, block=None)>"
      ]
     },
     "execution_count": 13,
     "metadata": {},
     "output_type": "execute_result"
    },
    {
     "data": {
      "image/png": "[encoded data removed]",
      "text/plain": [
       "<Figure size 640x480 with 1 Axes>"
      ]
     },
     "metadata": {},
     "output_type": "display_data"
    }
   ],
   "source": [
    "# Plotting a pie chart about the frequency of cardinal wind directions\n",
    "# Data for pie chart\n",
    "labels = 'west', 'East', 'South', 'North', 'Other'\n",
    "sizes = [14070, 4210, 2263, 2112, 195769]\n",
    "\n",
    "# Generate Colors from colormap module from matplotlib\n",
    "cmap = cm.get_cmap('terrain')\n",
    "colors = [cmap(i / len(labels)) for i in range(len(labels))]\n",
    "\n",
    "# Optional hatch patterns\n",
    "hatch_patterns= ['//', 'o','..','_','']\n",
    "\n",
    "# Create plot\n",
    "fig, ax = plt.subplots()\n",
    "ax.pie(sizes, labels=labels, colors=colors, hatch=hatch_patterns, shadow=False,  textprops={'size': 'smaller'}, radius=0.8)\n",
    "plt.title('Frequency of Cardinal Wind Directions Dublin Airport (last 25 years)')\n",
    "plt.legend(labels, loc=\"best\", fontsize=\"small\")\n",
    "plt.show"
   ]
  },
  {
   "cell_type": "code",
   "execution_count": 14,
   "metadata": {},
   "outputs": [
    {
     "name": "stdout",
     "output_type": "stream",
     "text": [
      "   wddir   wddir_cardinal\n",
      "0  250.0         West (W)\n",
      "1  250.0         West (W)\n",
      "2  240.0  South-West (SW)\n",
      "3  230.0  South-West (SW)\n",
      "4  250.0         West (W)\n"
     ]
    }
   ],
   "source": [
    "# Function to map degrees to cardinal or intercardinal directions\n",
    "def get_cardinal_direction(degrees):\n",
    "    if 337.5 <= degrees < 360 or 0 <= degrees < 22.5:\n",
    "        return 'North (N)'\n",
    "    elif 22.5 <= degrees < 67.5:\n",
    "        return 'North-East (NE)'\n",
    "    elif 67.5 <= degrees < 112.5:\n",
    "        return 'East (E)'\n",
    "    elif 112.5 <= degrees < 157.5:\n",
    "        return 'South-East (SE)'\n",
    "    elif 157.5 <= degrees < 202.5:\n",
    "        return 'South (S)'\n",
    "    elif 202.5 <= degrees < 247.5:\n",
    "        return 'South-West (SW)'\n",
    "    elif 247.5 <= degrees < 292.5:\n",
    "        return 'West (W)'\n",
    "    elif 292.5 <= degrees < 337.5:\n",
    "        return 'North-West (NW)'\n",
    "    else:\n",
    "        return 'Invalid'\n",
    "\n",
    "# Apply the function to the 'wddir' column in the  dataset to convert numerica values into corresponding cateogries.\n",
    "data['wddir_cardinal'] = data['wddir'].apply(get_cardinal_direction)\n",
    "\n",
    "# Display the updated dataframe with cardinal directions\n",
    "print(data[['wddir', 'wddir_cardinal']].head())\n"
   ]
  },
  {
   "cell_type": "code",
   "execution_count": 15,
   "metadata": {},
   "outputs": [
    {
     "name": "stderr",
     "output_type": "stream",
     "text": [
      "C:\\Users\\noemi\\AppData\\Local\\Temp\\ipykernel_17048\\3703485600.py:8: MatplotlibDeprecationWarning: The get_cmap function was deprecated in Matplotlib 3.7 and will be removed in 3.11. Use ``matplotlib.colormaps[name]`` or ``matplotlib.colormaps.get_cmap()`` or ``pyplot.get_cmap()`` instead.\n",
      "  cmap = cm.get_cmap('terrain')\n",
      "C:\\Users\\noemi\\AppData\\Local\\Temp\\ipykernel_17048\\3703485600.py:16: MatplotlibDeprecationWarning: hatch must consist of a string of \"*+-./OX\\ox|\" or None, but found the following invalid values \"_\". Passing invalid values is deprecated since 3.4 and will become an error in 3.11.\n",
      "  ax.pie(sizes, labels=labels, colors=colors, hatch=hatch_patterns, shadow=False,  textprops={'size': 'smaller'}, radius=0.8)\n"
     ]
    },
    {
     "data": {
      "image/png": "[encoded data removed]",
      "text/plain": [
       "<Figure size 640x480 with 1 Axes>"
      ]
     },
     "metadata": {},
     "output_type": "display_data"
    }
   ],
   "source": [
    "# Plot pie chart of Cardinal and intercardinal wind directions\n",
    "\n",
    "# Data for the pie chart\n",
    "labels = ['West', 'South-West']\n",
    "sizes = [750, 470]\n",
    "\n",
    "# Generate colors from the 'terrain' colormap\n",
    "cmap = cm.get_cmap('terrain')\n",
    "colors = [cmap(i / len(labels)) for i in range(len(labels))]\n",
    "\n",
    "# Optional hatch patterns\n",
    "hatch_patterns = ['_', '..']\n",
    "\n",
    "# Create the pie chart\n",
    "fig, ax = plt.subplots()\n",
    "ax.pie(sizes, labels=labels, colors=colors, hatch=hatch_patterns, shadow=False,  textprops={'size': 'smaller'}, radius=0.8)\n",
    "\n",
    "# Add title and legend\n",
    "plt.title('Frequency of Intercardinal Wind Directions Dublin Airport (last 25 years)')\n",
    "plt.legend(labels, loc=\"best\", fontsize=\"small\")\n",
    "\n",
    "# Show the plot\n",
    "plt.show()\n"
   ]
  },
  {
   "cell_type": "markdown",
   "metadata": {},
   "source": [
    "## References"
   ]
  },
  {
   "cell_type": "markdown",
   "metadata": {},
   "source": [
    "- Jupyter notebook format: \n",
    "\n",
    "https://www.ibm.com/docs/en/watson-studio-local/1.2.3?topic=notebooks-markdown-jupyter-cheatsheet\n",
    "\n",
    "- Jupyter notebook text formatting: \n",
    "\n",
    "https://www.earthdatascience.org/courses/intro-to-earth-data-science/file-formats/use-text-files/format-text-with-markdown-jupyter-notebook/\n",
    "\n",
    "- Free images:\n",
    "https://pixabay.com/\n",
    "\n",
    "- Classify the wind direction:\n",
    "https://stackoverflow.com/questions/35864909/classify-the-wind-direction-in-several-classes"
   ]
  },
  {
   "cell_type": "markdown",
   "metadata": {},
   "source": [
    "***\n",
    "### End"
   ]
  }
 ],
 "metadata": {
  "kernelspec": {
   "display_name": "Python 3",
   "language": "python",
   "name": "python3"
  },
  "language_info": {
   "codemirror_mode": {
    "name": "ipython",
    "version": 3
   },
   "file_extension": ".py",
   "mimetype": "text/x-python",
   "name": "python",
   "nbconvert_exporter": "python",
   "pygments_lexer": "ipython3",
   "version": "3.12.8"
  }
 },
 "nbformat": 4,
 "nbformat_minor": 2
}
